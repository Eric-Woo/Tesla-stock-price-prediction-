{
 "cells": [
  {
   "cell_type": "markdown",
   "metadata": {},
   "source": [
    "# Objective\n",
    "* 2020: \n",
    "    * Predict stock price in next day using XGBoost\n",
    "    * Given prices and other features for the last N days, we do prediction for day N+1\n",
    "    * Here we split data into train(60%), dev(20%) and test(20%)\n",
    "* 2020 - Diff from StockPricePrediction_v1_xgboost.ipynb:\n",
    "    * Here we scale the train set to have mean 0 and variance 1, and apply the same transformation to dev and test sets"
   ]
  },
  {
   "cell_type": "code",
   "execution_count": 3,
   "metadata": {},
   "outputs": [],
   "source": [
    "import math\n",
    "import numpy as np\n",
    "import pandas as pd\n",
    "import seaborn as sns\n",
    "import time\n",
    "\n",
    "from matplotlib import pyplot as plt\n",
    "from pylab import rcParams\n",
    "from sklearn.metrics import mean_squared_error\n",
    "from sklearn.preprocessing import StandardScaler\n",
    "from tqdm import tqdm_notebook\n",
    "from xgboost import XGBRegressor\n",
    "\n",
    "%matplotlib inline\n",
    "\n",
    "#### Input params ##################\n",
    "test_size = 0.2                # proportion of dataset to be used as test set\n",
    "cv_size = 0.2                  # proportion of dataset to be used as cross-validation set\n",
    "N = 7                          # for feature at day t, we use lags from t-1, t-2, ..., t-N as features\n",
    "\n",
    "n_estimators = 100             # for the initial model before tuning. default = 100\n",
    "max_depth = 3                  # for the initial model before tuning. default = 3\n",
    "learning_rate = 0.1            # for the initial model before tuning. default = 0.1\n",
    "min_child_weight = 1           # for the initial model before tuning. default = 1\n",
    "subsample = 1                  # for the initial model before tuning. default = 1\n",
    "colsample_bytree = 1           # for the initial model before tuning. default = 1\n",
    "colsample_bylevel = 1          # for the initial model before tuning. default = 1\n",
    "train_test_split_seed = 111    # 111\n",
    "model_seed = 100\n",
    "\n",
    "fontsize = 14\n",
    "ticklabelsize = 14\n",
    "####################################"
   ]
  },
  {
   "cell_type": "markdown",
   "metadata": {},
   "source": [
    "# Load data"
   ]
  },
  {
   "cell_type": "code",
   "execution_count": 4,
   "metadata": {},
   "outputs": [
    {
     "data": {
      "text/html": [
       "<div>\n",
       "<style scoped>\n",
       "    .dataframe tbody tr th:only-of-type {\n",
       "        vertical-align: middle;\n",
       "    }\n",
       "\n",
       "    .dataframe tbody tr th {\n",
       "        vertical-align: top;\n",
       "    }\n",
       "\n",
       "    .dataframe thead th {\n",
       "        text-align: right;\n",
       "    }\n",
       "</style>\n",
       "<table border=\"1\" class=\"dataframe\">\n",
       "  <thead>\n",
       "    <tr style=\"text-align: right;\">\n",
       "      <th></th>\n",
       "      <th>date</th>\n",
       "      <th>open</th>\n",
       "      <th>high</th>\n",
       "      <th>low</th>\n",
       "      <th>close</th>\n",
       "      <th>adj_close</th>\n",
       "      <th>volume</th>\n",
       "      <th>month</th>\n",
       "    </tr>\n",
       "  </thead>\n",
       "  <tbody>\n",
       "    <tr>\n",
       "      <th>0</th>\n",
       "      <td>2010-06-29</td>\n",
       "      <td>19.000000</td>\n",
       "      <td>25.00</td>\n",
       "      <td>17.540001</td>\n",
       "      <td>23.889999</td>\n",
       "      <td>23.889999</td>\n",
       "      <td>18766300</td>\n",
       "      <td>6</td>\n",
       "    </tr>\n",
       "    <tr>\n",
       "      <th>1</th>\n",
       "      <td>2010-06-30</td>\n",
       "      <td>25.790001</td>\n",
       "      <td>30.42</td>\n",
       "      <td>23.299999</td>\n",
       "      <td>23.830000</td>\n",
       "      <td>23.830000</td>\n",
       "      <td>17187100</td>\n",
       "      <td>6</td>\n",
       "    </tr>\n",
       "    <tr>\n",
       "      <th>2</th>\n",
       "      <td>2010-07-01</td>\n",
       "      <td>25.000000</td>\n",
       "      <td>25.92</td>\n",
       "      <td>20.270000</td>\n",
       "      <td>21.959999</td>\n",
       "      <td>21.959999</td>\n",
       "      <td>8218800</td>\n",
       "      <td>7</td>\n",
       "    </tr>\n",
       "    <tr>\n",
       "      <th>3</th>\n",
       "      <td>2010-07-02</td>\n",
       "      <td>23.000000</td>\n",
       "      <td>23.10</td>\n",
       "      <td>18.709999</td>\n",
       "      <td>19.200001</td>\n",
       "      <td>19.200001</td>\n",
       "      <td>5139800</td>\n",
       "      <td>7</td>\n",
       "    </tr>\n",
       "    <tr>\n",
       "      <th>4</th>\n",
       "      <td>2010-07-06</td>\n",
       "      <td>20.000000</td>\n",
       "      <td>20.00</td>\n",
       "      <td>15.830000</td>\n",
       "      <td>16.110001</td>\n",
       "      <td>16.110001</td>\n",
       "      <td>6866900</td>\n",
       "      <td>7</td>\n",
       "    </tr>\n",
       "  </tbody>\n",
       "</table>\n",
       "</div>"
      ],
      "text/plain": [
       "        date       open   high        low      close  adj_close    volume  \\\n",
       "0 2010-06-29  19.000000  25.00  17.540001  23.889999  23.889999  18766300   \n",
       "1 2010-06-30  25.790001  30.42  23.299999  23.830000  23.830000  17187100   \n",
       "2 2010-07-01  25.000000  25.92  20.270000  21.959999  21.959999   8218800   \n",
       "3 2010-07-02  23.000000  23.10  18.709999  19.200001  19.200001   5139800   \n",
       "4 2010-07-06  20.000000  20.00  15.830000  16.110001  16.110001   6866900   \n",
       "\n",
       "   month  \n",
       "0      6  \n",
       "1      6  \n",
       "2      7  \n",
       "3      7  \n",
       "4      7  "
      ]
     },
     "execution_count": 4,
     "metadata": {},
     "output_type": "execute_result"
    }
   ],
   "source": [
    "df = pd.read_csv(\"TSLA.csv\")\n",
    "\n",
    "# Convert Date column to datetime\n",
    "df.loc[:, 'Date'] = pd.to_datetime(df['Date'],format='%Y-%m-%d')\n",
    "\n",
    "# Change all column headings to be lower case, and remove spacing\n",
    "df.columns = [str(x).lower().replace(' ', '_') for x in df.columns]\n",
    "\n",
    "# Get month of each sample\n",
    "df['month'] = df['date'].dt.month\n",
    "\n",
    "# Sort by datetime\n",
    "df.sort_values(by='date', inplace=True, ascending=True)\n",
    "\n",
    "df.head()"
   ]
  },
  {
   "cell_type": "code",
   "execution_count": 5,
   "metadata": {},
   "outputs": [
    {
     "data": {
      "text/plain": [
       "Text(0, 0.5, 'USD')"
      ]
     },
     "execution_count": 5,
     "metadata": {},
     "output_type": "execute_result"
    },
    {
     "data": {
      "image/png": "[encoded data removed]",
      "text/plain": [
       "<Figure size 720x576 with 1 Axes>"
      ]
     },
     "metadata": {
      "needs_background": "light"
     },
     "output_type": "display_data"
    }
   ],
   "source": [
    "# Plot adjusted close over time\n",
    "rcParams['figure.figsize'] = 10, 8 # width 10, height 8\n",
    "\n",
    "ax = df.plot(x='date', y='adj_close', style='b-', grid=True)\n",
    "ax.set_xlabel(\"date\")\n",
    "ax.set_ylabel(\"USD\")"
   ]
  },
  {
   "cell_type": "markdown",
   "metadata": {},
   "source": [
    "# Split into train, dev and test set"
   ]
  },
  {
   "cell_type": "code",
   "execution_count": 6,
   "metadata": {},
   "outputs": [
    {
     "name": "stdout",
     "output_type": "stream",
     "text": [
      "num_train = 1450\n",
      "num_cv = 483\n",
      "num_test = 483\n",
      "train.shape = (1450, 8)\n",
      "cv.shape = (483, 8)\n",
      "train_cv.shape = (1933, 8)\n",
      "test.shape = (483, 8)\n"
     ]
    }
   ],
   "source": [
    "# Get sizes of each of the datasets\n",
    "num_cv = int(cv_size*len(df))\n",
    "num_test = int(test_size*len(df))\n",
    "num_train = len(df) - num_cv - num_test\n",
    "print(\"num_train = \" + str(num_train))\n",
    "print(\"num_cv = \" + str(num_cv))\n",
    "print(\"num_test = \" + str(num_test))\n",
    "\n",
    "# Split into train, cv, and test\n",
    "train = df[:num_train]\n",
    "cv = df[num_train:num_train+num_cv]\n",
    "train_cv = df[:num_train+num_cv]\n",
    "test = df[num_train+num_cv:]\n",
    "\n",
    "print(\"train.shape = \" + str(train.shape))\n",
    "print(\"cv.shape = \" + str(cv.shape))\n",
    "print(\"train_cv.shape = \" + str(train_cv.shape))\n",
    "print(\"test.shape = \" + str(test.shape))"
   ]
  },
  {
   "cell_type": "markdown",
   "metadata": {},
   "source": [
    "# Scale the train, dev and test set and combine them to do feature engineering"
   ]
  },
  {
   "cell_type": "code",
   "execution_count": 7,
   "metadata": {},
   "outputs": [
    {
     "name": "stdout",
     "output_type": "stream",
     "text": [
      "scaler.mean_ = [1.17543165e+02 1.19728517e+02 1.15208938e+02 1.17526310e+02\n",
      " 1.17526310e+02 4.22014531e+06]\n",
      "scaler.var_ = [8.72927172e+03 9.00345185e+03 8.43638671e+03 8.72782906e+03\n",
      " 8.72782906e+03 2.04600804e+13]\n",
      "train_scaled.shape = (1450, 6)\n",
      "train_scaled.shape = (1450, 8)\n"
     ]
    },
    {
     "data": {
      "text/html": [
       "<div>\n",
       "<style scoped>\n",
       "    .dataframe tbody tr th:only-of-type {\n",
       "        vertical-align: middle;\n",
       "    }\n",
       "\n",
       "    .dataframe tbody tr th {\n",
       "        vertical-align: top;\n",
       "    }\n",
       "\n",
       "    .dataframe thead th {\n",
       "        text-align: right;\n",
       "    }\n",
       "</style>\n",
       "<table border=\"1\" class=\"dataframe\">\n",
       "  <thead>\n",
       "    <tr style=\"text-align: right;\">\n",
       "      <th></th>\n",
       "      <th>open</th>\n",
       "      <th>high</th>\n",
       "      <th>low</th>\n",
       "      <th>close</th>\n",
       "      <th>adj_close</th>\n",
       "      <th>volume</th>\n",
       "      <th>date</th>\n",
       "      <th>month</th>\n",
       "    </tr>\n",
       "  </thead>\n",
       "  <tbody>\n",
       "    <tr>\n",
       "      <th>0</th>\n",
       "      <td>-1.054721</td>\n",
       "      <td>-0.998335</td>\n",
       "      <td>-1.063355</td>\n",
       "      <td>-1.002285</td>\n",
       "      <td>-1.002285</td>\n",
       "      <td>3.215841</td>\n",
       "      <td>2010-06-29</td>\n",
       "      <td>6</td>\n",
       "    </tr>\n",
       "    <tr>\n",
       "      <th>1</th>\n",
       "      <td>-0.982046</td>\n",
       "      <td>-0.941214</td>\n",
       "      <td>-1.000644</td>\n",
       "      <td>-1.002927</td>\n",
       "      <td>-1.002927</td>\n",
       "      <td>2.866714</td>\n",
       "      <td>2010-06-30</td>\n",
       "      <td>6</td>\n",
       "    </tr>\n",
       "    <tr>\n",
       "      <th>2</th>\n",
       "      <td>-0.990502</td>\n",
       "      <td>-0.988639</td>\n",
       "      <td>-1.033632</td>\n",
       "      <td>-1.022944</td>\n",
       "      <td>-1.022944</td>\n",
       "      <td>0.884016</td>\n",
       "      <td>2010-07-01</td>\n",
       "      <td>7</td>\n",
       "    </tr>\n",
       "    <tr>\n",
       "      <th>3</th>\n",
       "      <td>-1.011908</td>\n",
       "      <td>-1.018359</td>\n",
       "      <td>-1.050617</td>\n",
       "      <td>-1.052487</td>\n",
       "      <td>-1.052487</td>\n",
       "      <td>0.203316</td>\n",
       "      <td>2010-07-02</td>\n",
       "      <td>7</td>\n",
       "    </tr>\n",
       "    <tr>\n",
       "      <th>4</th>\n",
       "      <td>-1.044018</td>\n",
       "      <td>-1.051029</td>\n",
       "      <td>-1.081972</td>\n",
       "      <td>-1.085562</td>\n",
       "      <td>-1.085562</td>\n",
       "      <td>0.585140</td>\n",
       "      <td>2010-07-06</td>\n",
       "      <td>7</td>\n",
       "    </tr>\n",
       "  </tbody>\n",
       "</table>\n",
       "</div>"
      ],
      "text/plain": [
       "       open      high       low     close  adj_close    volume       date  \\\n",
       "0 -1.054721 -0.998335 -1.063355 -1.002285  -1.002285  3.215841 2010-06-29   \n",
       "1 -0.982046 -0.941214 -1.000644 -1.002927  -1.002927  2.866714 2010-06-30   \n",
       "2 -0.990502 -0.988639 -1.033632 -1.022944  -1.022944  0.884016 2010-07-01   \n",
       "3 -1.011908 -1.018359 -1.050617 -1.052487  -1.052487  0.203316 2010-07-02   \n",
       "4 -1.044018 -1.051029 -1.081972 -1.085562  -1.085562  0.585140 2010-07-06   \n",
       "\n",
       "   month  \n",
       "0      6  \n",
       "1      6  \n",
       "2      7  \n",
       "3      7  \n",
       "4      7  "
      ]
     },
     "execution_count": 7,
     "metadata": {},
     "output_type": "execute_result"
    }
   ],
   "source": [
    "# Converting dataset into x_train and y_train\n",
    "# Here we only scale the train dataset, and not the entire dataset to prevent information leak\n",
    "scaler = StandardScaler()\n",
    "train_scaled = scaler.fit_transform(train[['open', 'high', 'low', 'close', 'adj_close', 'volume']])\n",
    "print(\"scaler.mean_ = \" + str(scaler.mean_))\n",
    "print(\"scaler.var_ = \" + str(scaler.var_))\n",
    "print(\"train_scaled.shape = \" + str(train_scaled.shape))\n",
    "\n",
    "# Convert the numpy array back into pandas dataframe\n",
    "train_scaled = pd.DataFrame(train_scaled, columns=['open', 'high', 'low', 'close', 'adj_close', 'volume'])\n",
    "train_scaled[['date', 'month']] = train[['date', 'month']]\n",
    "print(\"train_scaled.shape = \" + str(train_scaled.shape))\n",
    "train_scaled.head()"
   ]
  },
  {
   "cell_type": "code",
   "execution_count": 8,
   "metadata": {
    "scrolled": true
   },
   "outputs": [
    {
     "name": "stdout",
     "output_type": "stream",
     "text": [
      "cv_scaled.shape = (483, 8)\n"
     ]
    },
    {
     "data": {
      "text/html": [
       "<div>\n",
       "<style scoped>\n",
       "    .dataframe tbody tr th:only-of-type {\n",
       "        vertical-align: middle;\n",
       "    }\n",
       "\n",
       "    .dataframe tbody tr th {\n",
       "        vertical-align: top;\n",
       "    }\n",
       "\n",
       "    .dataframe thead th {\n",
       "        text-align: right;\n",
       "    }\n",
       "</style>\n",
       "<table border=\"1\" class=\"dataframe\">\n",
       "  <thead>\n",
       "    <tr style=\"text-align: right;\">\n",
       "      <th></th>\n",
       "      <th>open</th>\n",
       "      <th>high</th>\n",
       "      <th>low</th>\n",
       "      <th>close</th>\n",
       "      <th>adj_close</th>\n",
       "      <th>volume</th>\n",
       "      <th>date</th>\n",
       "      <th>month</th>\n",
       "    </tr>\n",
       "  </thead>\n",
       "  <tbody>\n",
       "    <tr>\n",
       "      <th>0</th>\n",
       "      <td>1.408285</td>\n",
       "      <td>1.395261</td>\n",
       "      <td>1.398273</td>\n",
       "      <td>1.385782</td>\n",
       "      <td>1.385782</td>\n",
       "      <td>2.046115</td>\n",
       "      <td>2016-04-04</td>\n",
       "      <td>4</td>\n",
       "    </tr>\n",
       "    <tr>\n",
       "      <th>1</th>\n",
       "      <td>1.316024</td>\n",
       "      <td>1.442054</td>\n",
       "      <td>1.358643</td>\n",
       "      <td>1.476552</td>\n",
       "      <td>1.476552</td>\n",
       "      <td>1.266460</td>\n",
       "      <td>2016-04-05</td>\n",
       "      <td>4</td>\n",
       "    </tr>\n",
       "    <tr>\n",
       "      <th>2</th>\n",
       "      <td>1.460195</td>\n",
       "      <td>1.559879</td>\n",
       "      <td>1.505077</td>\n",
       "      <td>1.583057</td>\n",
       "      <td>1.583057</td>\n",
       "      <td>1.654850</td>\n",
       "      <td>2016-04-06</td>\n",
       "      <td>4</td>\n",
       "    </tr>\n",
       "    <tr>\n",
       "      <th>3</th>\n",
       "      <td>1.593770</td>\n",
       "      <td>1.576741</td>\n",
       "      <td>1.516618</td>\n",
       "      <td>1.495070</td>\n",
       "      <td>1.495070</td>\n",
       "      <td>1.024932</td>\n",
       "      <td>2016-04-07</td>\n",
       "      <td>4</td>\n",
       "    </tr>\n",
       "    <tr>\n",
       "      <th>4</th>\n",
       "      <td>1.530086</td>\n",
       "      <td>1.486950</td>\n",
       "      <td>1.445959</td>\n",
       "      <td>1.418750</td>\n",
       "      <td>1.418750</td>\n",
       "      <td>0.695016</td>\n",
       "      <td>2016-04-08</td>\n",
       "      <td>4</td>\n",
       "    </tr>\n",
       "  </tbody>\n",
       "</table>\n",
       "</div>"
      ],
      "text/plain": [
       "       open      high       low     close  adj_close    volume       date  \\\n",
       "0  1.408285  1.395261  1.398273  1.385782   1.385782  2.046115 2016-04-04   \n",
       "1  1.316024  1.442054  1.358643  1.476552   1.476552  1.266460 2016-04-05   \n",
       "2  1.460195  1.559879  1.505077  1.583057   1.583057  1.654850 2016-04-06   \n",
       "3  1.593770  1.576741  1.516618  1.495070   1.495070  1.024932 2016-04-07   \n",
       "4  1.530086  1.486950  1.445959  1.418750   1.418750  0.695016 2016-04-08   \n",
       "\n",
       "   month  \n",
       "0      4  \n",
       "1      4  \n",
       "2      4  \n",
       "3      4  \n",
       "4      4  "
      ]
     },
     "execution_count": 8,
     "metadata": {},
     "output_type": "execute_result"
    }
   ],
   "source": [
    "# Do scaling for dev set\n",
    "cv_scaled  = scaler.transform(cv[['open', 'high', 'low', 'close', 'adj_close', 'volume']])\n",
    "\n",
    "# Convert the numpy array back into pandas dataframe\n",
    "cv_scaled = pd.DataFrame(cv_scaled, columns=['open', 'high', 'low', 'close', 'adj_close', 'volume'])\n",
    "cv_scaled[['date', 'month']] = cv.reset_index()[['date', 'month']]\n",
    "print(\"cv_scaled.shape = \" + str(cv_scaled.shape))\n",
    "cv_scaled.head()"
   ]
  },
  {
   "cell_type": "code",
   "execution_count": 9,
   "metadata": {},
   "outputs": [
    {
     "name": "stdout",
     "output_type": "stream",
     "text": [
      "test_scaled.shape = (483, 8)\n"
     ]
    },
    {
     "data": {
      "text/html": [
       "<div>\n",
       "<style scoped>\n",
       "    .dataframe tbody tr th:only-of-type {\n",
       "        vertical-align: middle;\n",
       "    }\n",
       "\n",
       "    .dataframe tbody tr th {\n",
       "        vertical-align: top;\n",
       "    }\n",
       "\n",
       "    .dataframe thead th {\n",
       "        text-align: right;\n",
       "    }\n",
       "</style>\n",
       "<table border=\"1\" class=\"dataframe\">\n",
       "  <thead>\n",
       "    <tr style=\"text-align: right;\">\n",
       "      <th></th>\n",
       "      <th>open</th>\n",
       "      <th>high</th>\n",
       "      <th>low</th>\n",
       "      <th>close</th>\n",
       "      <th>adj_close</th>\n",
       "      <th>volume</th>\n",
       "      <th>date</th>\n",
       "      <th>month</th>\n",
       "    </tr>\n",
       "  </thead>\n",
       "  <tbody>\n",
       "    <tr>\n",
       "      <th>0</th>\n",
       "      <td>2.299535</td>\n",
       "      <td>2.297708</td>\n",
       "      <td>2.330773</td>\n",
       "      <td>2.310181</td>\n",
       "      <td>2.310181</td>\n",
       "      <td>-0.087623</td>\n",
       "      <td>2018-03-05</td>\n",
       "      <td>3</td>\n",
       "    </tr>\n",
       "    <tr>\n",
       "      <th>1</th>\n",
       "      <td>2.314091</td>\n",
       "      <td>2.283164</td>\n",
       "      <td>2.306168</td>\n",
       "      <td>2.255055</td>\n",
       "      <td>2.255055</td>\n",
       "      <td>0.014493</td>\n",
       "      <td>2018-03-06</td>\n",
       "      <td>3</td>\n",
       "    </tr>\n",
       "    <tr>\n",
       "      <th>2</th>\n",
       "      <td>2.225148</td>\n",
       "      <td>2.242378</td>\n",
       "      <td>2.248574</td>\n",
       "      <td>2.298942</td>\n",
       "      <td>2.298942</td>\n",
       "      <td>0.174023</td>\n",
       "      <td>2018-03-07</td>\n",
       "      <td>3</td>\n",
       "    </tr>\n",
       "    <tr>\n",
       "      <th>3</th>\n",
       "      <td>2.304565</td>\n",
       "      <td>2.250809</td>\n",
       "      <td>2.297893</td>\n",
       "      <td>2.264689</td>\n",
       "      <td>2.264689</td>\n",
       "      <td>-0.144573</td>\n",
       "      <td>2018-03-08</td>\n",
       "      <td>3</td>\n",
       "    </tr>\n",
       "    <tr>\n",
       "      <th>4</th>\n",
       "      <td>2.210806</td>\n",
       "      <td>2.200117</td>\n",
       "      <td>2.255433</td>\n",
       "      <td>2.244030</td>\n",
       "      <td>2.244030</td>\n",
       "      <td>0.284452</td>\n",
       "      <td>2018-03-09</td>\n",
       "      <td>3</td>\n",
       "    </tr>\n",
       "  </tbody>\n",
       "</table>\n",
       "</div>"
      ],
      "text/plain": [
       "       open      high       low     close  adj_close    volume       date  \\\n",
       "0  2.299535  2.297708  2.330773  2.310181   2.310181 -0.087623 2018-03-05   \n",
       "1  2.314091  2.283164  2.306168  2.255055   2.255055  0.014493 2018-03-06   \n",
       "2  2.225148  2.242378  2.248574  2.298942   2.298942  0.174023 2018-03-07   \n",
       "3  2.304565  2.250809  2.297893  2.264689   2.264689 -0.144573 2018-03-08   \n",
       "4  2.210806  2.200117  2.255433  2.244030   2.244030  0.284452 2018-03-09   \n",
       "\n",
       "   month  \n",
       "0      3  \n",
       "1      3  \n",
       "2      3  \n",
       "3      3  \n",
       "4      3  "
      ]
     },
     "execution_count": 9,
     "metadata": {},
     "output_type": "execute_result"
    }
   ],
   "source": [
    "# Do scaling for test set\n",
    "test_scaled  = scaler.transform(test[['open', 'high', 'low', 'close', 'adj_close', 'volume']])\n",
    "\n",
    "# Convert the numpy array back into pandas dataframe\n",
    "test_scaled = pd.DataFrame(test_scaled, columns=['open', 'high', 'low', 'close', 'adj_close', 'volume'])\n",
    "test_scaled[['date', 'month']] = test.reset_index()[['date', 'month']]\n",
    "print(\"test_scaled.shape = \" + str(test_scaled.shape))\n",
    "test_scaled.head()"
   ]
  },
  {
   "cell_type": "code",
   "execution_count": 10,
   "metadata": {},
   "outputs": [
    {
     "data": {
      "text/html": [
       "<div>\n",
       "<style scoped>\n",
       "    .dataframe tbody tr th:only-of-type {\n",
       "        vertical-align: middle;\n",
       "    }\n",
       "\n",
       "    .dataframe tbody tr th {\n",
       "        vertical-align: top;\n",
       "    }\n",
       "\n",
       "    .dataframe thead th {\n",
       "        text-align: right;\n",
       "    }\n",
       "</style>\n",
       "<table border=\"1\" class=\"dataframe\">\n",
       "  <thead>\n",
       "    <tr style=\"text-align: right;\">\n",
       "      <th></th>\n",
       "      <th>open</th>\n",
       "      <th>high</th>\n",
       "      <th>low</th>\n",
       "      <th>close</th>\n",
       "      <th>adj_close</th>\n",
       "      <th>volume</th>\n",
       "      <th>date</th>\n",
       "      <th>month</th>\n",
       "    </tr>\n",
       "  </thead>\n",
       "  <tbody>\n",
       "    <tr>\n",
       "      <th>0</th>\n",
       "      <td>-1.054721</td>\n",
       "      <td>-0.998335</td>\n",
       "      <td>-1.063355</td>\n",
       "      <td>-1.002285</td>\n",
       "      <td>-1.002285</td>\n",
       "      <td>3.215841</td>\n",
       "      <td>2010-06-29</td>\n",
       "      <td>6</td>\n",
       "    </tr>\n",
       "    <tr>\n",
       "      <th>1</th>\n",
       "      <td>-0.982046</td>\n",
       "      <td>-0.941214</td>\n",
       "      <td>-1.000644</td>\n",
       "      <td>-1.002927</td>\n",
       "      <td>-1.002927</td>\n",
       "      <td>2.866714</td>\n",
       "      <td>2010-06-30</td>\n",
       "      <td>6</td>\n",
       "    </tr>\n",
       "    <tr>\n",
       "      <th>2</th>\n",
       "      <td>-0.990502</td>\n",
       "      <td>-0.988639</td>\n",
       "      <td>-1.033632</td>\n",
       "      <td>-1.022944</td>\n",
       "      <td>-1.022944</td>\n",
       "      <td>0.884016</td>\n",
       "      <td>2010-07-01</td>\n",
       "      <td>7</td>\n",
       "    </tr>\n",
       "    <tr>\n",
       "      <th>3</th>\n",
       "      <td>-1.011908</td>\n",
       "      <td>-1.018359</td>\n",
       "      <td>-1.050617</td>\n",
       "      <td>-1.052487</td>\n",
       "      <td>-1.052487</td>\n",
       "      <td>0.203316</td>\n",
       "      <td>2010-07-02</td>\n",
       "      <td>7</td>\n",
       "    </tr>\n",
       "    <tr>\n",
       "      <th>4</th>\n",
       "      <td>-1.044018</td>\n",
       "      <td>-1.051029</td>\n",
       "      <td>-1.081972</td>\n",
       "      <td>-1.085562</td>\n",
       "      <td>-1.085562</td>\n",
       "      <td>0.585140</td>\n",
       "      <td>2010-07-06</td>\n",
       "      <td>7</td>\n",
       "    </tr>\n",
       "  </tbody>\n",
       "</table>\n",
       "</div>"
      ],
      "text/plain": [
       "       open      high       low     close  adj_close    volume       date  \\\n",
       "0 -1.054721 -0.998335 -1.063355 -1.002285  -1.002285  3.215841 2010-06-29   \n",
       "1 -0.982046 -0.941214 -1.000644 -1.002927  -1.002927  2.866714 2010-06-30   \n",
       "2 -0.990502 -0.988639 -1.033632 -1.022944  -1.022944  0.884016 2010-07-01   \n",
       "3 -1.011908 -1.018359 -1.050617 -1.052487  -1.052487  0.203316 2010-07-02   \n",
       "4 -1.044018 -1.051029 -1.081972 -1.085562  -1.085562  0.585140 2010-07-06   \n",
       "\n",
       "   month  \n",
       "0      6  \n",
       "1      6  \n",
       "2      7  \n",
       "3      7  \n",
       "4      7  "
      ]
     },
     "execution_count": 10,
     "metadata": {},
     "output_type": "execute_result"
    }
   ],
   "source": [
    "# Combine back train_scaled, cv_scaled, test_scaled together\n",
    "df_scaled = pd.concat([train_scaled, cv_scaled, test_scaled], axis=0)\n",
    "df_scaled.head()"
   ]
  },
  {
   "cell_type": "markdown",
   "metadata": {},
   "source": [
    "# Feature Engineering"
   ]
  },
  {
   "cell_type": "markdown",
   "metadata": {
    "collapsed": true
   },
   "source": [
    "We will generate the following features:\n",
    "* Mean 'adj_close' of each month\n",
    "* Difference between high and low of each day\n",
    "* Difference between open and close of each day\n",
    "* Mean volume of each month"
   ]
  },
  {
   "cell_type": "code",
   "execution_count": 11,
   "metadata": {
    "scrolled": true
   },
   "outputs": [
    {
     "data": {
      "text/html": [
       "<div>\n",
       "<style scoped>\n",
       "    .dataframe tbody tr th:only-of-type {\n",
       "        vertical-align: middle;\n",
       "    }\n",
       "\n",
       "    .dataframe tbody tr th {\n",
       "        vertical-align: top;\n",
       "    }\n",
       "\n",
       "    .dataframe thead th {\n",
       "        text-align: right;\n",
       "    }\n",
       "</style>\n",
       "<table border=\"1\" class=\"dataframe\">\n",
       "  <thead>\n",
       "    <tr style=\"text-align: right;\">\n",
       "      <th></th>\n",
       "      <th>adj_close</th>\n",
       "      <th>volume</th>\n",
       "      <th>date</th>\n",
       "      <th>month</th>\n",
       "      <th>range_hl</th>\n",
       "      <th>range_oc</th>\n",
       "    </tr>\n",
       "  </thead>\n",
       "  <tbody>\n",
       "    <tr>\n",
       "      <th>0</th>\n",
       "      <td>-1.002285</td>\n",
       "      <td>3.215841</td>\n",
       "      <td>2010-06-29</td>\n",
       "      <td>6</td>\n",
       "      <td>0.065020</td>\n",
       "      <td>-0.052436</td>\n",
       "    </tr>\n",
       "    <tr>\n",
       "      <th>1</th>\n",
       "      <td>-1.002927</td>\n",
       "      <td>2.866714</td>\n",
       "      <td>2010-06-30</td>\n",
       "      <td>6</td>\n",
       "      <td>0.059430</td>\n",
       "      <td>0.020881</td>\n",
       "    </tr>\n",
       "    <tr>\n",
       "      <th>2</th>\n",
       "      <td>-1.022944</td>\n",
       "      <td>0.884016</td>\n",
       "      <td>2010-07-01</td>\n",
       "      <td>7</td>\n",
       "      <td>0.044993</td>\n",
       "      <td>0.032442</td>\n",
       "    </tr>\n",
       "    <tr>\n",
       "      <th>3</th>\n",
       "      <td>-1.052487</td>\n",
       "      <td>0.203316</td>\n",
       "      <td>2010-07-02</td>\n",
       "      <td>7</td>\n",
       "      <td>0.032258</td>\n",
       "      <td>0.040578</td>\n",
       "    </tr>\n",
       "    <tr>\n",
       "      <th>4</th>\n",
       "      <td>-1.085562</td>\n",
       "      <td>0.585140</td>\n",
       "      <td>2010-07-06</td>\n",
       "      <td>7</td>\n",
       "      <td>0.030943</td>\n",
       "      <td>0.041544</td>\n",
       "    </tr>\n",
       "  </tbody>\n",
       "</table>\n",
       "</div>"
      ],
      "text/plain": [
       "   adj_close    volume       date  month  range_hl  range_oc\n",
       "0  -1.002285  3.215841 2010-06-29      6  0.065020 -0.052436\n",
       "1  -1.002927  2.866714 2010-06-30      6  0.059430  0.020881\n",
       "2  -1.022944  0.884016 2010-07-01      7  0.044993  0.032442\n",
       "3  -1.052487  0.203316 2010-07-02      7  0.032258  0.040578\n",
       "4  -1.085562  0.585140 2010-07-06      7  0.030943  0.041544"
      ]
     },
     "execution_count": 11,
     "metadata": {},
     "output_type": "execute_result"
    }
   ],
   "source": [
    "# Get difference between high and low of each day\n",
    "df_scaled['range_hl'] = df_scaled['high'] - df_scaled['low']\n",
    "df_scaled.drop(['high', 'low'], axis=1, inplace=True)\n",
    "\n",
    "# Get difference between open and close of each day\n",
    "df_scaled['range_oc'] = df_scaled['open'] - df_scaled['close']\n",
    "df_scaled.drop(['open', 'close'], axis=1, inplace=True)\n",
    "\n",
    "df_scaled.head()"
   ]
  },
  {
   "cell_type": "markdown",
   "metadata": {},
   "source": [
    "Now we use lags up to N number of days to use as features."
   ]
  },
  {
   "cell_type": "code",
   "execution_count": 12,
   "metadata": {},
   "outputs": [
    {
     "data": {
      "text/plain": [
       "['adj_close', 'range_hl', 'range_oc', 'volume']"
      ]
     },
     "execution_count": 12,
     "metadata": {},
     "output_type": "execute_result"
    }
   ],
   "source": [
    "# Add a column 'order_day' to indicate the order of the rows by date\n",
    "df_scaled['order_day'] = [x for x in list(range(len(df_scaled)))]\n",
    "\n",
    "# merging_keys\n",
    "merging_keys = ['order_day']\n",
    "\n",
    "# List of columns that we will use to create lags\n",
    "lag_cols = ['adj_close', 'range_hl', 'range_oc', 'volume']\n",
    "lag_cols"
   ]
  },
  {
   "cell_type": "code",
   "execution_count": 13,
   "metadata": {},
   "outputs": [
    {
     "name": "stderr",
     "output_type": "stream",
     "text": [
      "C:\\Users\\ZeWu\\Anaconda3\\lib\\site-packages\\ipykernel_launcher.py:3: TqdmDeprecationWarning: This function will be removed in tqdm==5.0.0\n",
      "Please use `tqdm.notebook.tqdm` instead of `tqdm.tqdm_notebook`\n",
      "  This is separate from the ipykernel package so we can avoid doing imports until\n"
     ]
    },
    {
     "data": {
      "application/vnd.jupyter.widget-view+json": {
       "model_id": "e0aa5587f94e4526917b9d007a3b88be",
       "version_major": 2,
       "version_minor": 0
      },
      "text/plain": [
       "HBox(children=(FloatProgress(value=0.0, max=7.0), HTML(value='')))"
      ]
     },
     "metadata": {},
     "output_type": "display_data"
    },
    {
     "name": "stdout",
     "output_type": "stream",
     "text": [
      "\n"
     ]
    },
    {
     "data": {
      "text/html": [
       "<div>\n",
       "<style scoped>\n",
       "    .dataframe tbody tr th:only-of-type {\n",
       "        vertical-align: middle;\n",
       "    }\n",
       "\n",
       "    .dataframe tbody tr th {\n",
       "        vertical-align: top;\n",
       "    }\n",
       "\n",
       "    .dataframe thead th {\n",
       "        text-align: right;\n",
       "    }\n",
       "</style>\n",
       "<table border=\"1\" class=\"dataframe\">\n",
       "  <thead>\n",
       "    <tr style=\"text-align: right;\">\n",
       "      <th></th>\n",
       "      <th>adj_close</th>\n",
       "      <th>volume</th>\n",
       "      <th>date</th>\n",
       "      <th>month</th>\n",
       "      <th>range_hl</th>\n",
       "      <th>range_oc</th>\n",
       "      <th>order_day</th>\n",
       "      <th>adj_close_lag_1</th>\n",
       "      <th>range_hl_lag_1</th>\n",
       "      <th>range_oc_lag_1</th>\n",
       "      <th>...</th>\n",
       "      <th>range_oc_lag_5</th>\n",
       "      <th>volume_lag_5</th>\n",
       "      <th>adj_close_lag_6</th>\n",
       "      <th>range_hl_lag_6</th>\n",
       "      <th>range_oc_lag_6</th>\n",
       "      <th>volume_lag_6</th>\n",
       "      <th>adj_close_lag_7</th>\n",
       "      <th>range_hl_lag_7</th>\n",
       "      <th>range_oc_lag_7</th>\n",
       "      <th>volume_lag_7</th>\n",
       "    </tr>\n",
       "  </thead>\n",
       "  <tbody>\n",
       "    <tr>\n",
       "      <th>7</th>\n",
       "      <td>-1.071754</td>\n",
       "      <td>-0.037483</td>\n",
       "      <td>2010-07-09</td>\n",
       "      <td>7</td>\n",
       "      <td>0.000972</td>\n",
       "      <td>0.001835</td>\n",
       "      <td>7</td>\n",
       "      <td>-1.071112</td>\n",
       "      <td>0.007637</td>\n",
       "      <td>-0.014220</td>\n",
       "      <td>...</td>\n",
       "      <td>0.032442</td>\n",
       "      <td>0.884016</td>\n",
       "      <td>-1.002927</td>\n",
       "      <td>0.059430</td>\n",
       "      <td>0.020881</td>\n",
       "      <td>2.866714</td>\n",
       "      <td>-1.002285</td>\n",
       "      <td>0.065020</td>\n",
       "      <td>-0.052436</td>\n",
       "      <td>3.215841</td>\n",
       "    </tr>\n",
       "    <tr>\n",
       "      <th>8</th>\n",
       "      <td>-1.075500</td>\n",
       "      <td>-0.446058</td>\n",
       "      <td>2010-07-12</td>\n",
       "      <td>7</td>\n",
       "      <td>-0.002135</td>\n",
       "      <td>0.009541</td>\n",
       "      <td>8</td>\n",
       "      <td>-1.071754</td>\n",
       "      <td>0.000972</td>\n",
       "      <td>0.001835</td>\n",
       "      <td>...</td>\n",
       "      <td>0.040578</td>\n",
       "      <td>0.203316</td>\n",
       "      <td>-1.022944</td>\n",
       "      <td>0.044993</td>\n",
       "      <td>0.032442</td>\n",
       "      <td>0.884016</td>\n",
       "      <td>-1.002927</td>\n",
       "      <td>0.059430</td>\n",
       "      <td>0.020881</td>\n",
       "      <td>2.866714</td>\n",
       "    </tr>\n",
       "    <tr>\n",
       "      <th>9</th>\n",
       "      <td>-1.063833</td>\n",
       "      <td>-0.340471</td>\n",
       "      <td>2010-07-13</td>\n",
       "      <td>7</td>\n",
       "      <td>0.004961</td>\n",
       "      <td>-0.008120</td>\n",
       "      <td>9</td>\n",
       "      <td>-1.075500</td>\n",
       "      <td>-0.002135</td>\n",
       "      <td>0.009541</td>\n",
       "      <td>...</td>\n",
       "      <td>0.041544</td>\n",
       "      <td>0.585140</td>\n",
       "      <td>-1.052487</td>\n",
       "      <td>0.032258</td>\n",
       "      <td>0.040578</td>\n",
       "      <td>0.203316</td>\n",
       "      <td>-1.022944</td>\n",
       "      <td>0.044993</td>\n",
       "      <td>0.032442</td>\n",
       "      <td>0.884016</td>\n",
       "    </tr>\n",
       "    <tr>\n",
       "      <th>10</th>\n",
       "      <td>-1.045636</td>\n",
       "      <td>-0.005515</td>\n",
       "      <td>2010-07-14</td>\n",
       "      <td>7</td>\n",
       "      <td>0.011511</td>\n",
       "      <td>-0.020430</td>\n",
       "      <td>10</td>\n",
       "      <td>-1.063833</td>\n",
       "      <td>0.004961</td>\n",
       "      <td>-0.008120</td>\n",
       "      <td>...</td>\n",
       "      <td>0.006331</td>\n",
       "      <td>0.597255</td>\n",
       "      <td>-1.085562</td>\n",
       "      <td>0.030943</td>\n",
       "      <td>0.041544</td>\n",
       "      <td>0.585140</td>\n",
       "      <td>-1.052487</td>\n",
       "      <td>0.032258</td>\n",
       "      <td>0.040578</td>\n",
       "      <td>0.203316</td>\n",
       "    </tr>\n",
       "    <tr>\n",
       "      <th>11</th>\n",
       "      <td>-1.045101</td>\n",
       "      <td>-0.106194</td>\n",
       "      <td>2010-07-15</td>\n",
       "      <td>7</td>\n",
       "      <td>0.012238</td>\n",
       "      <td>0.000441</td>\n",
       "      <td>11</td>\n",
       "      <td>-1.045636</td>\n",
       "      <td>0.011511</td>\n",
       "      <td>-0.020430</td>\n",
       "      <td>...</td>\n",
       "      <td>-0.014220</td>\n",
       "      <td>0.771841</td>\n",
       "      <td>-1.088880</td>\n",
       "      <td>0.004681</td>\n",
       "      <td>0.006331</td>\n",
       "      <td>0.597255</td>\n",
       "      <td>-1.085562</td>\n",
       "      <td>0.030943</td>\n",
       "      <td>0.041544</td>\n",
       "      <td>0.585140</td>\n",
       "    </tr>\n",
       "  </tbody>\n",
       "</table>\n",
       "<p>5 rows × 35 columns</p>\n",
       "</div>"
      ],
      "text/plain": [
       "    adj_close    volume       date  month  range_hl  range_oc  order_day  \\\n",
       "7   -1.071754 -0.037483 2010-07-09      7  0.000972  0.001835          7   \n",
       "8   -1.075500 -0.446058 2010-07-12      7 -0.002135  0.009541          8   \n",
       "9   -1.063833 -0.340471 2010-07-13      7  0.004961 -0.008120          9   \n",
       "10  -1.045636 -0.005515 2010-07-14      7  0.011511 -0.020430         10   \n",
       "11  -1.045101 -0.106194 2010-07-15      7  0.012238  0.000441         11   \n",
       "\n",
       "    adj_close_lag_1  range_hl_lag_1  range_oc_lag_1  ...  range_oc_lag_5  \\\n",
       "7         -1.071112        0.007637       -0.014220  ...        0.032442   \n",
       "8         -1.071754        0.000972        0.001835  ...        0.040578   \n",
       "9         -1.075500       -0.002135        0.009541  ...        0.041544   \n",
       "10        -1.063833        0.004961       -0.008120  ...        0.006331   \n",
       "11        -1.045636        0.011511       -0.020430  ...       -0.014220   \n",
       "\n",
       "    volume_lag_5  adj_close_lag_6  range_hl_lag_6  range_oc_lag_6  \\\n",
       "7       0.884016        -1.002927        0.059430        0.020881   \n",
       "8       0.203316        -1.022944        0.044993        0.032442   \n",
       "9       0.585140        -1.052487        0.032258        0.040578   \n",
       "10      0.597255        -1.085562        0.030943        0.041544   \n",
       "11      0.771841        -1.088880        0.004681        0.006331   \n",
       "\n",
       "    volume_lag_6  adj_close_lag_7  range_hl_lag_7  range_oc_lag_7  \\\n",
       "7       2.866714        -1.002285        0.065020       -0.052436   \n",
       "8       0.884016        -1.002927        0.059430        0.020881   \n",
       "9       0.203316        -1.022944        0.044993        0.032442   \n",
       "10      0.585140        -1.052487        0.032258        0.040578   \n",
       "11      0.597255        -1.085562        0.030943        0.041544   \n",
       "\n",
       "    volume_lag_7  \n",
       "7       3.215841  \n",
       "8       2.866714  \n",
       "9       0.884016  \n",
       "10      0.203316  \n",
       "11      0.585140  \n",
       "\n",
       "[5 rows x 35 columns]"
      ]
     },
     "execution_count": 13,
     "metadata": {},
     "output_type": "execute_result"
    }
   ],
   "source": [
    "shift_range = [x+1 for x in range(N)]\n",
    "\n",
    "for shift in tqdm_notebook(shift_range):\n",
    "    train_shift = df_scaled[merging_keys + lag_cols].copy()\n",
    "    \n",
    "    # E.g. order_day of 0 becomes 1, for shift = 1.\n",
    "    # So when this is merged with order_day of 1 in df_scaled, this will represent lag of 1.\n",
    "    train_shift['order_day'] = train_shift['order_day'] + shift\n",
    "    \n",
    "    foo = lambda x: '{}_lag_{}'.format(x, shift) if x in lag_cols else x\n",
    "    train_shift = train_shift.rename(columns=foo)\n",
    "\n",
    "    df_scaled = pd.merge(df_scaled, train_shift, on=merging_keys, how='left') #.fillna(0)\n",
    "    \n",
    "del train_shift\n",
    "\n",
    "# Remove the first N rows which contain NaNs\n",
    "df_scaled = df_scaled[N:]\n",
    "    \n",
    "df_scaled.head()"
   ]
  },
  {
   "cell_type": "code",
   "execution_count": 14,
   "metadata": {},
   "outputs": [
    {
     "name": "stdout",
     "output_type": "stream",
     "text": [
      "<class 'pandas.core.frame.DataFrame'>\n",
      "Int64Index: 2409 entries, 7 to 2415\n",
      "Data columns (total 35 columns):\n",
      " #   Column           Non-Null Count  Dtype         \n",
      "---  ------           --------------  -----         \n",
      " 0   adj_close        2409 non-null   float64       \n",
      " 1   volume           2409 non-null   float64       \n",
      " 2   date             2409 non-null   datetime64[ns]\n",
      " 3   month            2409 non-null   int64         \n",
      " 4   range_hl         2409 non-null   float64       \n",
      " 5   range_oc         2409 non-null   float64       \n",
      " 6   order_day        2409 non-null   int64         \n",
      " 7   adj_close_lag_1  2409 non-null   float64       \n",
      " 8   range_hl_lag_1   2409 non-null   float64       \n",
      " 9   range_oc_lag_1   2409 non-null   float64       \n",
      " 10  volume_lag_1     2409 non-null   float64       \n",
      " 11  adj_close_lag_2  2409 non-null   float64       \n",
      " 12  range_hl_lag_2   2409 non-null   float64       \n",
      " 13  range_oc_lag_2   2409 non-null   float64       \n",
      " 14  volume_lag_2     2409 non-null   float64       \n",
      " 15  adj_close_lag_3  2409 non-null   float64       \n",
      " 16  range_hl_lag_3   2409 non-null   float64       \n",
      " 17  range_oc_lag_3   2409 non-null   float64       \n",
      " 18  volume_lag_3     2409 non-null   float64       \n",
      " 19  adj_close_lag_4  2409 non-null   float64       \n",
      " 20  range_hl_lag_4   2409 non-null   float64       \n",
      " 21  range_oc_lag_4   2409 non-null   float64       \n",
      " 22  volume_lag_4     2409 non-null   float64       \n",
      " 23  adj_close_lag_5  2409 non-null   float64       \n",
      " 24  range_hl_lag_5   2409 non-null   float64       \n",
      " 25  range_oc_lag_5   2409 non-null   float64       \n",
      " 26  volume_lag_5     2409 non-null   float64       \n",
      " 27  adj_close_lag_6  2409 non-null   float64       \n",
      " 28  range_hl_lag_6   2409 non-null   float64       \n",
      " 29  range_oc_lag_6   2409 non-null   float64       \n",
      " 30  volume_lag_6     2409 non-null   float64       \n",
      " 31  adj_close_lag_7  2409 non-null   float64       \n",
      " 32  range_hl_lag_7   2409 non-null   float64       \n",
      " 33  range_oc_lag_7   2409 non-null   float64       \n",
      " 34  volume_lag_7     2409 non-null   float64       \n",
      "dtypes: datetime64[ns](1), float64(32), int64(2)\n",
      "memory usage: 677.5 KB\n"
     ]
    }
   ],
   "source": [
    "df_scaled.info()"
   ]
  },
  {
   "cell_type": "markdown",
   "metadata": {
    "collapsed": true
   },
   "source": [
    "# Split the scaled features back into train, dev and test set"
   ]
  },
  {
   "cell_type": "code",
   "execution_count": 17,
   "metadata": {},
   "outputs": [
    {
     "name": "stdout",
     "output_type": "stream",
     "text": [
      "X_train.shape = (1450, 28)\n",
      "y_train.shape = (1450,)\n",
      "X_cv.shape = (483, 28)\n",
      "y_cv.shape = (483,)\n",
      "X_train_cv.shape = (1933, 28)\n",
      "y_train_cv.shape = (1933,)\n",
      "X_sample.shape = (476, 28)\n",
      "y_sample.shape = (476,)\n"
     ]
    }
   ],
   "source": [
    "features = [\n",
    "\"adj_close_lag_1\",\n",
    "\"range_hl_lag_1\",\n",
    "\"range_oc_lag_1\",\n",
    "\"volume_lag_1\",\n",
    "\"adj_close_lag_2\",\n",
    "\"range_hl_lag_2\",\n",
    "\"range_oc_lag_2\",\n",
    "\"volume_lag_2\",\n",
    "\"adj_close_lag_3\",\n",
    "\"range_hl_lag_3\",\n",
    "\"range_oc_lag_3\",\n",
    "\"volume_lag_3\",\n",
    "\"adj_close_lag_4\",\n",
    "\"range_hl_lag_4\",\n",
    "\"range_oc_lag_4\",\n",
    "\"volume_lag_4\",\n",
    "\"adj_close_lag_5\",\n",
    "\"range_hl_lag_5\",\n",
    "\"range_oc_lag_5\",\n",
    "\"volume_lag_5\",\n",
    "\"adj_close_lag_6\",\n",
    "\"range_hl_lag_6\",\n",
    "\"range_oc_lag_6\",\n",
    "\"volume_lag_6\",\n",
    "\"adj_close_lag_7\",\n",
    "\"range_hl_lag_7\",\n",
    "\"range_oc_lag_7\",\n",
    "\"volume_lag_7\"\n",
    "]\n",
    "\n",
    "target = \"adj_close\"\n",
    "\n",
    "# Split into train, cv, and test\n",
    "train = df_scaled[:num_train]\n",
    "cv = df_scaled[num_train:num_train+num_cv]\n",
    "train_cv = df_scaled[:num_train+num_cv]\n",
    "test = df_scaled[num_train+num_cv:]\n",
    "\n",
    "# Split into X and y\n",
    "X_train = train[features]\n",
    "y_train = train[target]\n",
    "X_cv = cv[features]\n",
    "y_cv = cv[target]\n",
    "X_train_cv = train_cv[features]\n",
    "y_train_cv = train_cv[target]\n",
    "X_sample = test[features]\n",
    "y_sample = test[target]\n",
    "print(\"X_train.shape = \" + str(X_train.shape))\n",
    "print(\"y_train.shape = \" + str(y_train.shape))\n",
    "print(\"X_cv.shape = \" + str(X_cv.shape))\n",
    "print(\"y_cv.shape = \" + str(y_cv.shape))\n",
    "print(\"X_train_cv.shape = \" + str(X_train_cv.shape))\n",
    "print(\"y_train_cv.shape = \" + str(y_train_cv.shape))\n",
    "print(\"X_sample.shape = \" + str(X_sample.shape))\n",
    "print(\"y_sample.shape = \" + str(y_sample.shape))"
   ]
  },
  {
   "cell_type": "markdown",
   "metadata": {},
   "source": [
    "# EDA"
   ]
  },
  {
   "cell_type": "code",
   "execution_count": 18,
   "metadata": {},
   "outputs": [
    {
     "data": {
      "text/plain": [
       "Text(0, 0.5, 'USD (scaled)')"
      ]
     },
     "execution_count": 18,
     "metadata": {},
     "output_type": "execute_result"
    },
    {
     "data": {
      "image/png": "[encoded data removed]",
      "text/plain": [
       "<Figure size 720x576 with 1 Axes>"
      ]
     },
     "metadata": {
      "needs_background": "light"
     },
     "output_type": "display_data"
    }
   ],
   "source": [
    "# Plot adjusted close over time\n",
    "rcParams['figure.figsize'] = 10, 8 # width 10, height 8\n",
    "\n",
    "ax = train.plot(x='date', y='adj_close', style='b-', grid=True)\n",
    "ax = cv.plot(x='date', y='adj_close', style='y-', grid=True, ax=ax)\n",
    "ax = test.plot(x='date', y='adj_close', style='g-', grid=True, ax=ax)\n",
    "ax.legend(['train', 'dev', 'test'])\n",
    "ax.set_xlabel(\"date\")\n",
    "ax.set_ylabel(\"USD (scaled)\")"
   ]
  },
  {
   "cell_type": "markdown",
   "metadata": {
    "collapsed": true
   },
   "source": [
    "# Train the model using XGBoost"
   ]
  },
  {
   "cell_type": "code",
   "execution_count": 19,
   "metadata": {},
   "outputs": [
    {
     "data": {
      "text/plain": [
       "XGBRegressor(base_score=0.5, booster=None, colsample_bylevel=1,\n",
       "             colsample_bynode=1, colsample_bytree=1, gamma=0, gpu_id=-1,\n",
       "             importance_type='gain', interaction_constraints=None,\n",
       "             learning_rate=0.1, max_delta_step=0, max_depth=3,\n",
       "             min_child_weight=1, missing=nan, monotone_constraints=None,\n",
       "             n_estimators=100, n_jobs=0, num_parallel_tree=1,\n",
       "             objective='reg:squarederror', random_state=100, reg_alpha=0,\n",
       "             reg_lambda=1, scale_pos_weight=1, seed=100, subsample=1,\n",
       "             tree_method=None, validate_parameters=False, verbosity=None)"
      ]
     },
     "execution_count": 19,
     "metadata": {},
     "output_type": "execute_result"
    }
   ],
   "source": [
    "# Create the model\n",
    "model = XGBRegressor(seed=model_seed,\n",
    "                      n_estimators=n_estimators,\n",
    "                      max_depth=max_depth,\n",
    "                      learning_rate=learning_rate,\n",
    "                      min_child_weight=min_child_weight)\n",
    "\n",
    "# Train the regressor\n",
    "model.fit(X_train, y_train)"
   ]
  },
  {
   "cell_type": "markdown",
   "metadata": {},
   "source": [
    "# Predict on train set"
   ]
  },
  {
   "cell_type": "code",
   "execution_count": 20,
   "metadata": {},
   "outputs": [
    {
     "data": {
      "text/plain": [
       "0.032816598021486336"
      ]
     },
     "execution_count": 20,
     "metadata": {},
     "output_type": "execute_result"
    }
   ],
   "source": [
    "# Do prediction on train set\n",
    "est = model.predict(X_train)\n",
    "\n",
    "# Calculate RMSE\n",
    "math.sqrt(mean_squared_error(y_train, est))"
   ]
  },
  {
   "cell_type": "code",
   "execution_count": 21,
   "metadata": {},
   "outputs": [
    {
     "data": {
      "text/plain": [
       "Text(0, 0.5, 'USD (scaled)')"
      ]
     },
     "execution_count": 21,
     "metadata": {},
     "output_type": "execute_result"
    },
    {
     "data": {
      "image/png": "[encoded data removed]",
      "text/plain": [
       "<Figure size 720x576 with 1 Axes>"
      ]
     },
     "metadata": {
      "needs_background": "light"
     },
     "output_type": "display_data"
    }
   ],
   "source": [
    "# Plot adjusted close over time\n",
    "rcParams['figure.figsize'] = 10, 8 # width 10, height 8\n",
    "\n",
    "est_df = pd.DataFrame({'est': est, \n",
    "                       'date': train['date']})\n",
    "\n",
    "ax = train.plot(x='date', y='adj_close', style='b-', grid=True)\n",
    "ax = cv.plot(x='date', y='adj_close', style='y-', grid=True, ax=ax)\n",
    "ax = test.plot(x='date', y='adj_close', style='g-', grid=True, ax=ax)\n",
    "ax = est_df.plot(x='date', y='est', style='r-', grid=True, ax=ax)\n",
    "ax.legend(['train', 'dev', 'test', 'est'])\n",
    "ax.set_xlabel(\"date\")\n",
    "ax.set_ylabel(\"USD (scaled)\")"
   ]
  },
  {
   "cell_type": "markdown",
   "metadata": {},
   "source": [
    "# Predict on dev set"
   ]
  },
  {
   "cell_type": "code",
   "execution_count": 22,
   "metadata": {},
   "outputs": [
    {
     "data": {
      "text/plain": [
       "0.486846334979169"
      ]
     },
     "execution_count": 22,
     "metadata": {},
     "output_type": "execute_result"
    }
   ],
   "source": [
    "# Do prediction on test set\n",
    "est = model.predict(X_cv)\n",
    "\n",
    "# Calculate RMSE\n",
    "math.sqrt(mean_squared_error(y_cv, est))"
   ]
  }
 ],
 "metadata": {
  "kernelspec": {
   "display_name": "Python 3",
   "language": "python",
   "name": "python3"
  },
  "language_info": {
   "codemirror_mode": {
    "name": "ipython",
    "version": 3
   },
   "file_extension": ".py",
   "mimetype": "text/x-python",
   "name": "python",
   "nbconvert_exporter": "python",
   "pygments_lexer": "ipython3",
   "version": "3.7.6"
  }
 },
 "nbformat": 4,
 "nbformat_minor": 2
}
